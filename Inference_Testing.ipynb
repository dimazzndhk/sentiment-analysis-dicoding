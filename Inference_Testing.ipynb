{
  "nbformat": 4,
  "nbformat_minor": 0,
  "metadata": {
    "colab": {
      "provenance": []
    },
    "kernelspec": {
      "name": "python3",
      "display_name": "Python 3"
    },
    "language_info": {
      "name": "python"
    }
  },
  "cells": [
    {
      "cell_type": "markdown",
      "source": [
        "Untuk inference testing, akan dilakukan pada model skema 1 yaitu menggunakan XGBoost dengan ekstraksi fitur menggunakan CountVectorizer."
      ],
      "metadata": {
        "id": "rqYKnnuThvU8"
      }
    },
    {
      "cell_type": "code",
      "execution_count": 6,
      "metadata": {
        "colab": {
          "base_uri": "https://localhost:8080/"
        },
        "id": "J7lUeIgpjjAt",
        "outputId": "e888da48-34e6-4a0a-b667-c51fd16d4c4b"
      },
      "outputs": [
        {
          "output_type": "stream",
          "name": "stderr",
          "text": [
            "/usr/local/lib/python3.11/dist-packages/sklearn/base.py:380: InconsistentVersionWarning: Trying to unpickle estimator CountVectorizer from version 1.2.2 when using version 1.6.1. This might lead to breaking code or invalid results. Use at your own risk. For more info please refer to:\n",
            "https://scikit-learn.org/stable/model_persistence.html#security-maintainability-limitations\n",
            "  warnings.warn(\n"
          ]
        }
      ],
      "source": [
        "import joblib\n",
        "\n",
        "# Load model dan vectorizer dari file\n",
        "xg_skema1 = joblib.load('xg_skema1.pkl')  # XGBoost model (Skema 1)\n",
        "count_vectorizer = joblib.load('count_vectorizer.pkl')  # CountVectorizer"
      ]
    },
    {
      "cell_type": "code",
      "source": [
        "texts = {\n",
        "    'daftar akun sulit, barcode sulit muncul',\n",
        "    'aplikasi kebanyakan upgrade'\n",
        "}"
      ],
      "metadata": {
        "id": "jXMD9J3jky_N"
      },
      "execution_count": 15,
      "outputs": []
    },
    {
      "cell_type": "code",
      "source": [
        "# Predict sentiment\n",
        "def predict_sentiment(text):\n",
        "    # XGBoost + CountVectorizer\n",
        "    model = xg_skema1\n",
        "    vectorizer = count_vectorizer\n",
        "    fitur = vectorizer.transform(text)\n",
        "\n",
        "    # Predict\n",
        "    predict = model.predict(fitur)\n",
        "    print(\"\\nHasil Prediksi Sentimen untuk Skema 1 (XGBoost + CountVectorizer):\")\n",
        "    print(\"-\" * 50)\n",
        "    for kalimat, label in zip(text, predict):\n",
        "        if label == 0:\n",
        "            sentimen = \"negatif\"\n",
        "        elif label == 1:\n",
        "            sentimen = \"netral\"\n",
        "        else:\n",
        "            sentimen = \"positif\"\n",
        "        print(f\"Kalimat: \\\"{kalimat}\\\"\")\n",
        "        print(f\"Sentimen: {sentimen}\")\n",
        "        print(\"-\" * 50)\n",
        "\n",
        "# Gunakan hanya Skema 1 untuk prediksi\n",
        "predict_sentiment(texts)"
      ],
      "metadata": {
        "colab": {
          "base_uri": "https://localhost:8080/"
        },
        "id": "9gvJ5UGYjzvD",
        "outputId": "d964f42f-4a4e-47c7-b0a7-9c49395ddafd"
      },
      "execution_count": 16,
      "outputs": [
        {
          "output_type": "stream",
          "name": "stdout",
          "text": [
            "\n",
            "Hasil Prediksi Sentimen untuk Skema 1 (XGBoost + CountVectorizer):\n",
            "--------------------------------------------------\n",
            "Kalimat: \"daftar akun sulit, barcode sulit muncul\"\n",
            "Sentimen: negatif\n",
            "--------------------------------------------------\n",
            "Kalimat: \"aplikasi kebanyakan upgrade\"\n",
            "Sentimen: negatif\n",
            "--------------------------------------------------\n"
          ]
        }
      ]
    }
  ]
}